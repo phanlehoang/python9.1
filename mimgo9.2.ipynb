{
 "cells": [
  {
   "cell_type": "code",
   "execution_count": 3,
   "metadata": {},
   "outputs": [],
   "source": [
    "from math import sqrt as sr\n",
    "\n",
    "def sparseForm(t):\n",
    "    ln = len(t)\n",
    "    dc = {}\n",
    "    for i in range(ln):\n",
    "        if t[i] != 0:\n",
    "            dc[i] = t[i]\n",
    "    return ln, dc\n",
    "\n",
    "def revert(spr):\n",
    "    r = [0] * spr[0]\n",
    "    for u, v in spr[1].items():\n",
    "        r[u] = v\n",
    "    return r\n",
    "\n",
    "def dot(spr1, spr2):\n",
    "    r = 0\n",
    "    t1 = revert(spr1)\n",
    "    t2 = revert(spr2)\n",
    "    for i in range(len(t1)):\n",
    "        r = r + t1[i] * t2[i]\n",
    "    return r\n",
    "\n",
    "def norm(spr):\n",
    "    r = 0\n",
    "    k = revert(spr)\n",
    "    for i in k:\n",
    "        r += i**2\n",
    "    return sr(r)\n",
    "\n",
    "\n",
    "def getCosinSim(spr1, spr2):\n",
    "    r= dot(spr1, spr2) / (norm(spr1) * norm(spr2))\n",
    "    return r\n"
   ]
  },
  {
   "cell_type": "markdown",
   "metadata": {},
   "source": [
    "Biểu diễn vector thưa. Trong thực tế có nhiều bài toán làm việc với dữ liệu là các vector với kích thước rất lớn, nhưng đa phần các thành phần trên vector này đều có giá trị bằng 0, chỉ có một số ít các thành phần có giá trị khác không. Do vậy, thay vì biểu diễn vector đầy đủ với rất nhiều vị trí bằng 0, t =  [0, 0, 0, 0, 0, 1, 0, 0, 0, 0, 5, 0, 0, 0, 9, 0] ta có thể biểu diễn vectơ bằng cách chỉ biển diễn thông tin kích thước vec tơ và các thành phần khác không của vector. Như ví dụ trên, ta có thể biểu diễn t bằng 1 bộ (tuple) 2 phần tử spr =(16, {5:1, 10: 5, 14: 9}) biểu diễn kích thước vector t = 16, và các thành phần khác 0 (đánh chỉ số từ 0): vị trí 5 = 1,  vị trí 10 = 5,  vị trí 14 = 9.\n",
    "\n",
    "Hoàn thiện các hàm trong file SPR.py theo các yêu cầu sau:\n",
    "\n",
    "1.    Hàm sparseForm(t): Hàm này tính và trả lại biểu diễn (spr) thưa của vector t theo mô tả trên.\n",
    "\n",
    "2.    Hàm revert(spr): Hàm này trả về vector tương ứng với biểu diễn thưa spr.  \n",
    "\n",
    "3.    Hàm dot(spr1, spr2): Thực hiện tính và trả lại tích vô hướng của 2 vector u, v được biểu diễn bởi biểu diễn thưa spr1 và spr2.\n",
    "4.    Hàm getCosineSim(spr1, spr2): thực hiện tính và trả lại giá trị cosine của góc giữa 2 vector u, v được biểu diễn tương ứng bởi 2 biểu diễn thưa spr1 và spr2.\n",
    "\n",
    "Cosine của góc giữa hai vector được tính theo công thức sau:"
   ]
  }
 ],
 "metadata": {
  "interpreter": {
   "hash": "fcea7bec55ff6d7f3b1107f41f074eaa5711bec3d5478eb754b653bcca62ae21"
  },
  "kernelspec": {
   "display_name": "Python 3.9.9 64-bit (windows store)",
   "language": "python",
   "name": "python3"
  },
  "language_info": {
   "codemirror_mode": {
    "name": "ipython",
    "version": 3
   },
   "file_extension": ".py",
   "mimetype": "text/x-python",
   "name": "python",
   "nbconvert_exporter": "python",
   "pygments_lexer": "ipython3",
   "version": "3.9.9"
  },
  "orig_nbformat": 4
 },
 "nbformat": 4,
 "nbformat_minor": 2
}
